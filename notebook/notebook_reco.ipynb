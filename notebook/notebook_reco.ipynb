{
 "cells": [
  {
   "cell_type": "code",
   "metadata": {
    "ExecuteTime": {
     "end_time": "2024-10-08T14:29:53.403951Z",
     "start_time": "2024-10-08T14:29:53.310569Z"
    }
   },
   "source": [
    "import pytesseract\n",
    "from PIL import Image\n",
    "import re\n",
    "import requests\n",
    "from io import BytesIO"
   ],
   "outputs": [],
   "execution_count": 78
  },
  {
   "metadata": {
    "ExecuteTime": {
     "end_time": "2024-10-08T12:32:26.825231Z",
     "start_time": "2024-10-08T12:32:26.628273Z"
    }
   },
   "cell_type": "code",
   "source": [
    "image_path_1 = \"notebook/Capture d’écran 2024-10-08 à 11.15.31.png\"\n",
    "extractedInformation_1 = pytesseract.image_to_string(Image.open(image_path_1))\n",
    "print(extractedInformation_1)"
   ],
   "outputs": [
    {
     "name": "stdout",
     "output_type": "stream",
     "text": [
      "~ LOSEC 20 mg, 1 gélule le matin pendant 1 mois. AR 3 fois, NS\n",
      "\n",
      "~ LACTIBIANE, 1 sachet dans un verre d'eau le matin pendant 10 jours. NR\n",
      "\n"
     ]
    }
   ],
   "execution_count": 52
  },
  {
   "metadata": {},
   "cell_type": "code",
   "outputs": [],
   "execution_count": null,
   "source": [
    "def getImage(source):\n",
    "    '''\n",
    "    fonction permettant de reconstruire l'image à partir d'un objet bytes\n",
    "    :param source: objet bytes\n",
    "    :return: image dans le format communiqué \n",
    "    '''\n",
    "    response = requests.get(source)\n",
    "    img = Image.open(BytesIO(response.content))\n",
    "    return img"
   ]
  },
  {
   "cell_type": "code",
   "metadata": {
    "ExecuteTime": {
     "end_time": "2024-10-08T13:59:58.133656Z",
     "start_time": "2024-10-08T13:59:57.828764Z"
    }
   },
   "source": [
    "image = \"notebook/Capture_decran_2024-10-08_a_15.03.39.png\"\n",
    "def lecture_image(image):\n",
    "    '''\n",
    "    A FAIRE reconstruction de l'image et extraction des information de l'image\n",
    "    :param image:encore de l'image recu par l'API \n",
    "    :return:un texte des informations capturé dans l'image \n",
    "    '''\n",
    "    extractedInformation = pytesseract.image_to_string(Image.open(image))\n",
    "    return extractedInformation\n",
    "\n",
    "extractedInformation = lecture_image(image)"
   ],
   "outputs": [],
   "execution_count": 67
  },
  {
   "cell_type": "code",
   "metadata": {
    "ExecuteTime": {
     "end_time": "2024-10-08T14:06:38.693900Z",
     "start_time": "2024-10-08T14:06:38.676425Z"
    }
   },
   "source": [
    "def transforme_list(information):\n",
    "    '''\n",
    "    fonction permettant de transformer mon texte d'entrée en une liste d'élement avec comme \n",
    "    separteur un saut de ligne\n",
    "    :param information: le texte de mon image\n",
    "    :return: une liste de chaques médicaments et ses informations de mon texte\n",
    "    '''\n",
    "    liste_elements = [element.strip() for element in information.strip().split('\\n\\n') if element.strip()]\n",
    "    return liste_elements\n",
    "\n",
    "element = transforme_list(extractedInformation)\n",
    "element"
   ],
   "outputs": [
    {
     "data": {
      "text/plain": [
       "['aie eorer—<e—e',\n",
       " 'BECLOMETASONE DIPROPIONATE 100 pg/dose susp p pulv nasal (RHINOMAXIL)\\n1 43 fois par jour pendant 5 jours',\n",
       " 'PARACETAMOL 1 g cp (DOLIPRANE)\\n1g/6hsidouleurs 2 boites',\n",
       " 'ALPHA-AMYLASE 200 U CEIP/ml sirop (MAXILASE ALPHA-AMYLASE)\\n2 cuilléres a café (10 ml), 3 fois par jour, 5 jours',\n",
       " 'Signé via Doctolib le 30/04/2024',\n",
       " '( 8 Marine Legrand',\n",
       " '_ oe']"
      ]
     },
     "execution_count": 71,
     "metadata": {},
     "output_type": "execute_result"
    }
   ],
   "execution_count": 71
  },
  {
   "metadata": {
    "ExecuteTime": {
     "end_time": "2024-10-08T14:16:58.416455Z",
     "start_time": "2024-10-08T14:16:58.405884Z"
    }
   },
   "cell_type": "code",
   "source": [
    "def extraire_informations(element):\n",
    "    '''\n",
    "    fonction permettant d'extraire les informations d'un string qu'on lui donne\n",
    "    :param element: chaine de caractere\n",
    "    :return: {\n",
    "        \"Medicament\": medicament_nom,\n",
    "        \"nbr_comprimé\": nbr_comprime_val,\n",
    "        \"Matin\": bool,\n",
    "        \"Midi\": bool,\n",
    "        \"Soir\": bool,\n",
    "        \"Durée\": duree_val\n",
    "    } \n",
    "    '''\n",
    "    # prend les premiers mots en majuscule de chaque élément avant d'arriver à un int \n",
    "    # int qui represente le dosage\n",
    "    medicament = re.search(r\"([A-ZÉÈÊÀÂÙÛÎÔÇ]+(?: [A-ZÉÈÊÀÂÙÛÎÔÇ]+)*)\\s+\\d\", element)\n",
    "    medicament_nom = medicament.group(1) if medicament else None\n",
    "    if not medicament_nom:\n",
    "        return False \n",
    "    # prend le nbr de comprimés à prendre pendant le traitement\n",
    "    nbr_comprime = re.search(r\"(\\d+)\\s+(?:gélule|comprimé|gélules|comprimés|sachet|sachets|cuilléres a café|cuilléres à café|fois|g/)\", element, re.IGNORECASE)\n",
    "    nbr_comprime_val = int(nbr_comprime.group(1)) if nbr_comprime else None\n",
    "    \n",
    "    # regarde le moment de la prise de medicament et renvoie True or False\n",
    "    mots_cle_midi = [\"midi\", \"déjeuner\", \"jour\"]\n",
    "    matin = \"matin\" in element.lower() or \"petit-déjeuner\" in element.lower()\n",
    "    midi = any(mot in element.lower() for mot in mots_cle_midi)\n",
    "    soir = \"soir\" in element.lower() or \"diner\" in element.lower()\n",
    "    \n",
    "    # Extraire la durée entre \"pendant\" et le point \".\"\n",
    "    duree = re.search(r\"pendant\\s+(\\d+)\\s+(jours|mois)\", element)\n",
    "    if duree:\n",
    "        nbr_duree_val = int(duree.group(1))\n",
    "        type_duree = duree.group(2)\n",
    "        duree_val = {\"nbr_durée\": nbr_duree_val, \"Durée\": type_duree}\n",
    "    else:\n",
    "        duree_val = None\n",
    "    \n",
    "    return {\n",
    "        \"medicament\": medicament_nom,\n",
    "        \"nbr_comprimé\": nbr_comprime_val,\n",
    "        \"matin\": matin,\n",
    "        \"midi\": midi,\n",
    "        \"soir\": soir,\n",
    "        \"durée\": duree_val\n",
    "    }\n",
    "\n",
    "[extraire_informations(element) for element in element if extraire_informations(element) is not False]"
   ],
   "outputs": [
    {
     "data": {
      "text/plain": [
       "[{'medicament': 'BECLOMETASONE DIPROPIONATE',\n",
       "  'nbr_comprimé': 43,\n",
       "  'matin': False,\n",
       "  'midi': True,\n",
       "  'soir': False,\n",
       "  'durée': {'nbr_durée': 5, 'Durée': 'jours'}},\n",
       " {'medicament': 'PARACETAMOL',\n",
       "  'nbr_comprimé': None,\n",
       "  'matin': False,\n",
       "  'midi': False,\n",
       "  'soir': False,\n",
       "  'durée': None},\n",
       " {'medicament': 'AMYLASE',\n",
       "  'nbr_comprimé': 2,\n",
       "  'matin': False,\n",
       "  'midi': True,\n",
       "  'soir': False,\n",
       "  'durée': None}]"
      ]
     },
     "execution_count": 77,
     "metadata": {},
     "output_type": "execute_result"
    }
   ],
   "execution_count": 77
  }
 ],
 "metadata": {
  "kernelspec": {
   "display_name": "Python 3",
   "language": "python",
   "name": "python3"
  },
  "language_info": {
   "codemirror_mode": {
    "name": "ipython",
    "version": 3
   },
   "file_extension": ".py",
   "mimetype": "text/x-python",
   "name": "python",
   "nbconvert_exporter": "python",
   "pygments_lexer": "ipython3",
   "version": "3.13.0"
  }
 },
 "nbformat": 4,
 "nbformat_minor": 2
}
